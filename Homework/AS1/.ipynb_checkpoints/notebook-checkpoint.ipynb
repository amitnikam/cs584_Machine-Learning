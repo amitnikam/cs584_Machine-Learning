{
 "cells": [
  {
   "cell_type": "markdown",
   "metadata": {},
   "source": [
    "## Assignment 1 (Linear Regression)\n",
    "## CS584 - Machine Learning\n",
    "### Amit Nikam (A20470263)"
   ]
  },
  {
   "cell_type": "code",
   "execution_count": 1,
   "metadata": {},
   "outputs": [],
   "source": [
    "# load required library\n",
    "from sklearn.datasets import load_diabetes\n",
    "import matplotlib.pyplot as plt\n",
    "import numpy as np\n",
    "\n",
    "# Assignment 1 - Linear Regression\n",
    "# Package Prereqs: scikit-learn, matplotlib, numpy\n",
    "# Implement what is asked at the TODO section.\n",
    "# !! Please notice no library versions of linear regression are allowed.\n",
    "\n",
    "\n",
    "def load_dataset():\n",
    "    '''\n",
    "    ** Do not modify this function. **\n",
    "    Load diabetes dataset. We only use one feature and 60 instances.\n",
    "    '''\n",
    "\n",
    "    X, y = load_diabetes(return_X_y=True)\n",
    "    return X[:60, 2], y[:60]"
   ]
  },
  {
   "cell_type": "code",
   "execution_count": 2,
   "metadata": {},
   "outputs": [],
   "source": [
    "def plot_data(X, y):\n",
    "    '''\n",
    "    Draw scatter plot using raw data.\n",
    "    '''\n",
    "\n",
    "    #########################################################################\n",
    "    # Full Mark: 10                                                         #\n",
    "    # TODO:                                                                 #\n",
    "    # 1. make a scatter plot of the raw data                                #\n",
    "    # 2. set title for the plot                                             #\n",
    "    # 3. set label for X,y axis                                             #\n",
    "    # e.g.,                                                                 #\n",
    "    #https://matplotlib.org/3.2.0/api/_as_gen/matplotlib.pyplot.scatter.html#\n",
    "    #########################################################################\n",
    "\n",
    "    plt.scatter(X, y)\n",
    "    plt.title(\"Scatter Plot of X Feature v/s y - Target\")\n",
    "    plt.xlabel(\"X Feature\")\n",
    "    plt.ylabel(\"y - Target\")\n",
    "\n",
    "    #########################################################################\n",
    "    #                       END OF YOUR CODE                                #\n",
    "    #########################################################################\n",
    "\n",
    "    # return the plt object\n",
    "    return plt"
   ]
  },
  {
   "cell_type": "code",
   "execution_count": 3,
   "metadata": {},
   "outputs": [],
   "source": [
    "def train_test_split(X, y):\n",
    "    '''\n",
    "    Randomly split data into train and test set.\n",
    "    Two thirds of the raw data will be the train set and one third of the raw data will be the test set.\n",
    "    '''\n",
    "\n",
    "    ######################################################################################\n",
    "    # Full Mark: 10                                                                      #\n",
    "    # TODO:                                                                              #\n",
    "    # 1. shuffle the indices of data first.                                              #\n",
    "    # (Hint: use numpy.arange and numpy.random.shuffle)                                  #\n",
    "    # 2. select two thirds of the data as train set, the rest of data as test set.       #\n",
    "    ######################################################################################\n",
    "    \n",
    "    # dynamically find number of 2/3 train records ~ and 1/3 test\n",
    "    train_len = int((2/3) * len(X))\n",
    "    \n",
    "    # merge the feature and target columns and shuffle\n",
    "    mix = np.column_stack((X,y))\n",
    "    np.random.shuffle(mix)\n",
    "    \n",
    "    # slice the shuffled matrix\n",
    "    X_train, y_train = mix[:train_len,:2], mix[:train_len,2:]\n",
    "    X_test, y_test = mix[train_len:,:2], mix[train_len:,2:]\n",
    "    \n",
    "    #########################################################################\n",
    "    #                       END OF YOUR CODE                                #\n",
    "    #########################################################################\n",
    "    \n",
    "    return X_train, X_test, y_train, y_test"
   ]
  },
  {
   "cell_type": "code",
   "execution_count": 4,
   "metadata": {},
   "outputs": [],
   "source": [
    "def cost_function(weights, X, y):\n",
    "    '''\n",
    "    Define the cost function.\n",
    "    '''\n",
    "\n",
    "    #########################################################################\n",
    "    # Full Mark: 25                                                         #\n",
    "    # TODO:                                                                 #\n",
    "    # Implement the Mean Square Error function:                             #\n",
    "    # https://en.wikipedia.org/wiki/Mean_squared_error#Mean                 #\n",
    "    #                                                                       #\n",
    "    # (Hint: Use numpy functions)                                           #\n",
    "    #########################################################################\n",
    "    \n",
    "    # find y predicted\n",
    "    y_hat = np.dot(X, weights)\n",
    "    y_hat = y_hat[..., np.newaxis]\n",
    "    \n",
    "    # calculate cost from difference between y and y predicted\n",
    "    y_diff = y_hat - y\n",
    "    cost = np.sum(y_diff ** 2) / (2 * len(X))\n",
    "    \n",
    "    #########################################################################\n",
    "    #                       END OF YOUR CODE                                #\n",
    "    #########################################################################\n",
    "\n",
    "    # return cost\n",
    "    return cost"
   ]
  },
  {
   "cell_type": "code",
   "execution_count": 5,
   "metadata": {},
   "outputs": [],
   "source": [
    "def gradient_descent(weights, X, y):\n",
    "    '''\n",
    "    Update weights using gradient descent algorithm.\n",
    "    '''\n",
    "\n",
    "    # define your learning_rate and epoch\n",
    "    lr = 0.1\n",
    "    epoch = 20000\n",
    "    \n",
    "    # define cost\n",
    "    cost_list = []\n",
    "    \n",
    "    # for loop\n",
    "    for i in range(epoch):\n",
    "        #########################################################################\n",
    "        # Full Mark: 25                                                         #\n",
    "        # TODO:                                                                 #\n",
    "        # 1. update weights with learning rate lr                               #\n",
    "        # 2. append the updated cost to cost list                               #\n",
    "        # (Hint: Use numpy functions)                                           #\n",
    "        #########################################################################\n",
    "\n",
    "        # find y predicted\n",
    "        y_hat = np.dot(X, weights)\n",
    "        y_hat = y_hat[..., np.newaxis]\n",
    "        y_diff = y_hat - y\n",
    "    \n",
    "        # gradient and update weights\n",
    "        grad = np.dot(y_diff.T,X) / len(X)\n",
    "        weights[0] = weights[0] - lr * grad[0][0]\n",
    "        weights[1] = weights[1] - lr * grad[0][1]\n",
    "        \n",
    "        # find cost\n",
    "        cost_list.append(cost_function(weights,X,y))\n",
    "\n",
    "        #########################################################################\n",
    "        #                       END OF YOUR CODE                                #\n",
    "        #########################################################################\n",
    "        \n",
    "    # return updated weights and cost list\n",
    "    return weights, cost_list"
   ]
  },
  {
   "cell_type": "code",
   "execution_count": 6,
   "metadata": {},
   "outputs": [],
   "source": [
    "def plot_iteration(cost, epoch=20000):\n",
    "    '''\n",
    "    Plot the cost for each iteration.\n",
    "    '''\n",
    "\n",
    "    #########################################################################\n",
    "    # Full Mark: 10                                                         #\n",
    "    # TODO:                                                                 #\n",
    "    # 1. plot the cost for each iteration                                   #\n",
    "    # 2. set title and labels for the plot                                  #\n",
    "    # (Hint: Use plt.plot function to plot and range(n))                    #\n",
    "    #########################################################################\n",
    "    \n",
    "    plt.scatter(np.arange(epoch), cost, marker='.')\n",
    "    plt.title(\"Plot of the cost for each iteration\")\n",
    "    plt.xlabel(\"iteration\")\n",
    "    plt.ylabel(\"cost\")\n",
    "    \n",
    "    #########################################################################\n",
    "    #                       END OF YOUR CODE                                #\n",
    "    #########################################################################\n",
    "    \n",
    "    # show plot\n",
    "    plt.show()"
   ]
  },
  {
   "cell_type": "code",
   "execution_count": 7,
   "metadata": {},
   "outputs": [],
   "source": [
    "def plot_final(weights, X, y):\n",
    "    '''\n",
    "    Draw the simple linear regression model.\n",
    "    '''\n",
    "\n",
    "    # draw the raw data first\n",
    "    model_plot = plot_data(X, y)\n",
    "\n",
    "    #########################################################################\n",
    "    # Full Mark: 10                                                         #\n",
    "    # TODO:                                                                 #\n",
    "    # 1. create a series of x coordinates in proper range.                  #\n",
    "    # (Hint: use numpy.arange)                                              #\n",
    "    # 2. calculate y coordinates:                                           #\n",
    "    #                         y = w * X + b                                 #\n",
    "    # 3. plot the curve and set title                                       #\n",
    "    #########################################################################\n",
    "\n",
    "    # model\n",
    "    y_hat = (weights[1] * X) + weights[0]\n",
    "    y_hat = y_hat[..., np.newaxis]\n",
    "    \n",
    "    # make figure\n",
    "    model_plot.plot(X, y_hat, 'r--', label='Model')\n",
    "    model_plot.title(\"Model with respect to raw data\")\n",
    "    model_plot.xlabel(\"X Feature\")\n",
    "    model_plot.ylabel(\"y_hat - predicted target\")\n",
    "\n",
    "    #########################################################################\n",
    "    #                       END OF YOUR CODE                                #\n",
    "    #########################################################################\n",
    "\n",
    "    # show plot\n",
    "    model_plot.show()"
   ]
  },
  {
   "cell_type": "code",
   "execution_count": 8,
   "metadata": {},
   "outputs": [],
   "source": [
    "def print_test_error(weights, X, y_true):\n",
    "    '''\n",
    "    Use optimized weights to predict y, and print test error.\n",
    "    '''\n",
    "\n",
    "    #########################################################################\n",
    "    # Full Mark: 10                                                         #\n",
    "    # TODO:                                                                 #\n",
    "    # 1. predict the target value y of X:                                   #\n",
    "    #                            y = w * X + b                              #\n",
    "    # 2. calculate the Mean Square Error using true y and predicted y       #\n",
    "    #########################################################################\n",
    "\n",
    "    # predicted y\n",
    "    y_hat = (weights[1] * X) + weights[0]\n",
    "    y_hat = y_hat[..., np.newaxis]\n",
    "    \n",
    "    # error\n",
    "    y_diff = y_hat - y_true    \n",
    "    error = np.sum(y_diff ** 2) / (2 * len(X))\n",
    "\n",
    "    #########################################################################\n",
    "    #                       END OF YOUR CODE                                #\n",
    "    #########################################################################\n",
    "\n",
    "    # print test error\n",
    "    print(\"Test error: %.4f\" % error)\n",
    "    return error"
   ]
  },
  {
   "cell_type": "code",
   "execution_count": 9,
   "metadata": {},
   "outputs": [
    {
     "data": {
      "image/png": "[encoded data removed]",
      "text/plain": [
       "<Figure size 432x288 with 1 Axes>"
      ]
     },
     "metadata": {
      "needs_background": "light"
     },
     "output_type": "display_data"
    },
    {
     "name": "stdout",
     "output_type": "stream",
     "text": [
      "Initial cost: 13676.5130\n"
     ]
    },
    {
     "data": {
      "image/png": "[encoded data removed]",
      "text/plain": [
       "<Figure size 432x288 with 1 Axes>"
      ]
     },
     "metadata": {
      "needs_background": "light"
     },
     "output_type": "display_data"
    },
    {
     "data": {
      "image/png": "[encoded data removed]",
      "text/plain": [
       "<Figure size 432x288 with 1 Axes>"
      ]
     },
     "metadata": {
      "needs_background": "light"
     },
     "output_type": "display_data"
    },
    {
     "name": "stdout",
     "output_type": "stream",
     "text": [
      "Test error: 1658.8923\n"
     ]
    }
   ],
   "source": [
    "def main():\n",
    "    '''\n",
    "    ** Do not modify this function. **\n",
    "    '''\n",
    "\n",
    "    # Plot raw data points\n",
    "    X, y = load_dataset()\n",
    "    plot = plot_data(X, y)\n",
    "    plot.show()\n",
    "\n",
    "    # Split train and test set\n",
    "    X = np.c_[np.ones(X.size), X]\n",
    "    X_train, X_test, y_train, y_test = train_test_split(X, y)\n",
    "\n",
    "    # initialize weight\n",
    "    weights = np.ones(X_train.shape[1])\n",
    "\n",
    "    # calculate training cost\n",
    "    init_cost = cost_function(weights, X_train, y_train)\n",
    "    print(\"Initial cost: %.4f\" % init_cost)\n",
    "\n",
    "    # gradient descent to find the optimal fit\n",
    "    weights, cost_list = gradient_descent(weights, X_train, y_train)\n",
    "\n",
    "    # draw the cost change for iterations\n",
    "    plot_iteration(cost_list)\n",
    "\n",
    "    # draw the final linear model\n",
    "    # it is shown as a red line, you can change the color anyway\n",
    "    plot_final(weights, X_train[:, 1], y_train)\n",
    "\n",
    "    # Print test error\n",
    "    print_test_error(weights, X_test[:, 1], y_test)\n",
    "\n",
    "\n",
    "if __name__ == '__main__':\n",
    "    main()"
   ]
  }
 ],
 "metadata": {
  "kernelspec": {
   "display_name": "Python 3",
   "language": "python",
   "name": "python3"
  },
  "language_info": {
   "codemirror_mode": {
    "name": "ipython",
    "version": 3
   },
   "file_extension": ".py",
   "mimetype": "text/x-python",
   "name": "python",
   "nbconvert_exporter": "python",
   "pygments_lexer": "ipython3",
   "version": "3.8.5"
  }
 },
 "nbformat": 4,
 "nbformat_minor": 4
}
