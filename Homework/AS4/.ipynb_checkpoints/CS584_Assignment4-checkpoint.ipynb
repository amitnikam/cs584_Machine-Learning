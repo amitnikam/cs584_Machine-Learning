{
 "cells": [
  {
   "cell_type": "markdown",
   "metadata": {
    "id": "2Udn_ChCmTzR"
   },
   "source": [
    "# Assignment 4 - Convolutional Neural Network\n",
    "\n"
   ]
  },
  {
   "cell_type": "markdown",
   "metadata": {
    "id": "lmcezBW5Hzxu",
    "tags": [
     "pdf-title"
    ]
   },
   "source": [
    "In this assignment we will develop a neural network with fully-connected layers to perform classification"
   ]
  },
  {
   "cell_type": "code",
   "execution_count": 1,
   "metadata": {
    "id": "dvfVkvADtgdu"
   },
   "outputs": [],
   "source": [
    "import numpy as np\n",
    "import matplotlib.pyplot as plt\n",
    "import sys\n",
    "from sklearn import datasets\n",
    "if sys.version_info >= (3, 0):\n",
    "    def xrange(*args, **kwargs):\n",
    "        return iter(range(*args, **kwargs))"
   ]
  },
  {
   "cell_type": "code",
   "execution_count": 2,
   "metadata": {
    "id": "slWD2mKq5SlQ"
   },
   "outputs": [],
   "source": [
    "#load dataset\n",
    "def load_dataset():\n",
    "    iris = datasets.load_iris()\n",
    "    X = iris.data\n",
    "    y = iris.target\n",
    "    return X, y\n",
    "\n",
    "def train_test_split(X, y):\n",
    "    idx = np.arange(len(X))\n",
    "    train_size = int(len(X) * 2/3)\n",
    "    val_size = int(len(X) * 1/6)\n",
    "    np.random.shuffle(idx)\n",
    "    X = X[idx]\n",
    "    y = y[idx]\n",
    "    X_train, X_val, X_test = X[:train_size], X[train_size:train_size+val_size], X[train_size+val_size:]\n",
    "    y_train, y_val, y_test = y[:train_size], y[train_size:train_size+val_size], y[train_size+val_size:]\n",
    "\n",
    "    return X_train, y_train, X_val, y_val, X_test, y_test"
   ]
  },
  {
   "cell_type": "markdown",
   "metadata": {
    "id": "VGq4FfwJHzxx",
    "tags": [
     "pdf-ignore"
    ]
   },
   "source": [
    "We will use the following class `TwoLayerCNN` to represent instances of our network. The network parameters are stored in the instance variable `self.params` where keys are string parameter names and values are numpy arrays. Below, we initialize toy data and a toy model that we will use to develop your implementation. You need to complete the functions."
   ]
  },
  {
   "cell_type": "code",
   "execution_count": 11,
   "metadata": {
    "id": "7p36F_V_Hzxy",
    "tags": [
     "pdf-ignore"
    ]
   },
   "outputs": [],
   "source": [
    "class TwoLayerCNN(object):\n",
    "  \"\"\"\n",
    "  A two-layer fully-connected neural network. The net has an input dimension of\n",
    "  N, a hidden layer dimension of H, and performs classification over C classes.\n",
    "  We train the network with a softmax loss function and L2 regularization on the\n",
    "  weight matrices. The network uses a ReLU nonlinearity after the first fully\n",
    "  connected layer.\n",
    "\n",
    "  In other words, the network has the following architecture:\n",
    "\n",
    "  input - fully connected layer - ReLU - fully connected layer - softmax\n",
    "\n",
    "  The outputs of the second fully-connected layer are the scores for each class.\n",
    "  \"\"\"\n",
    "\n",
    "  def __init__(self, input_size, hidden_size, output_size, std=1e-4):\n",
    "    \"\"\"\n",
    "    Initialize the model. Weights are initialized to small random values and\n",
    "    biases are initialized to zero. Weights and biases are stored in the\n",
    "    variable self.params, which is a dictionary with the following keys:\n",
    "\n",
    "    W1: First layer weights; has shape (D, H)\n",
    "    b1: First layer biases; has shape (H,)\n",
    "    W2: Second layer weights; has shape (H, C)\n",
    "    b2: Second layer biases; has shape (C,)\n",
    "\n",
    "    Inputs:\n",
    "    - input_size: The dimension D of the input data.\n",
    "    - hidden_size: The number of neurons H in the hidden layer.\n",
    "    - output_size: The number of classes C.\n",
    "    \"\"\"\n",
    "    self.params = {}\n",
    "    self.params['W1'] = std * np.random.randn(input_size, hidden_size)\n",
    "    self.params['b1'] = np.zeros(hidden_size)\n",
    "    self.params['W2'] = std * np.random.randn(hidden_size, output_size)\n",
    "    self.params['b2'] = np.zeros(output_size)\n",
    "\n",
    "  def loss(self, X, y=None, reg=0.0):\n",
    "    \"\"\"\n",
    "    Compute the loss and gradients for a two layer fully connected neural\n",
    "    network.\n",
    "\n",
    "    Inputs:\n",
    "    - X: Input data of shape (N, D). Each X[i] is a training sample.\n",
    "    - y: Vector of training labels. y[i] is the label for X[i], and each y[i] is\n",
    "      an integer in the range 0 <= y[i] < C. This parameter is optional; if it\n",
    "      is not passed then we only return scores, and if it is passed then we\n",
    "      instead return the loss and gradients.\n",
    "    - reg: Regularization strength.\n",
    "\n",
    "    Returns:\n",
    "    If y is None, return a matrix scores of shape (N, C) where scores[i, c] is\n",
    "    the score for class c on input X[i].\n",
    "\n",
    "    If y is not None, instead return a tuple of:\n",
    "    - loss: Loss (data loss and regularization loss) for this batch of training\n",
    "      samples.\n",
    "    - grads: Dictionary mapping parameter names to gradients of those parameters\n",
    "      with respect to the loss function; has the same keys as self.params.\n",
    "    \"\"\"\n",
    "    # Unpack variables from the params dictionary\n",
    "    W1, b1 = self.params['W1'], self.params['b1']\n",
    "    W2, b2 = self.params['W2'], self.params['b2']\n",
    "    N, D = X.shape\n",
    "\n",
    "    # Compute the forward pass\n",
    "    scores = None\n",
    "    #############################################################################\n",
    "    # Full Mark: 1                                                              #\n",
    "    # TODO: Perform the forward pass, computing the class scores for the input. #\n",
    "    # Store the result in the scores variable, which should be an array of      #\n",
    "    # shape (N, C).                                                             #\n",
    "    #############################################################################\n",
    "\n",
    "    # Using ReLUs as the Activation Function\n",
    "    raw_input = np.dot(X,W1) + b1 \n",
    "    relu_activation = np.array(np.maximum(0, (raw_input)))\n",
    "    scores = np.array(np.dot(relu_activation, W2) + b2)\n",
    "\n",
    "    #############################################################################\n",
    "    #                              END OF YOUR CODE                             #\n",
    "    #############################################################################\n",
    "\n",
    "    # If the targets are not given then jump out, we're done\n",
    "    if y is None:\n",
    "      return scores\n",
    "\n",
    "    # Compute the loss\n",
    "    loss = None\n",
    "    \n",
    "    scores -= np.max(scores, axis=1, keepdims=True) # avoid numeric instability\n",
    "\n",
    "    #############################################################################\n",
    "    # Full Mark: 2                                                              #\n",
    "    # TODO: Finish the forward pass, and compute the loss. This should include  #\n",
    "    # both the data loss and L2 regularization for W1 and W2. Store the result  #\n",
    "    # in the variable loss, which should be a scalar. Use the Softmax           #\n",
    "    # classifier loss.                                                          #\n",
    "    #############################################################################\n",
    "    \n",
    "    # softmax\n",
    "    exp_scores = np.exp(scores)\n",
    "    scores = exp_scores / exp_scores.sum()\n",
    "    \n",
    "    # Loss\n",
    "    y_matrix = y.reshape(-1)\n",
    "    y_matrix = np.eye(3)[y_matrix]\n",
    "    reg_term = (reg / (2 * y.size)) * (np.sum(np.square(W1)) + np.sum(np.square(W2)))\n",
    "    loss = (-1 / y.size) * np.sum((np.log(scores) * y_matrix) +\n",
    "                          np.log(1 - scores) * (1 - y_matrix)) + reg_term\n",
    "\n",
    "    #############################################################################\n",
    "    #                              END OF YOUR CODE                             #\n",
    "    #############################################################################\n",
    "\n",
    "    # Backward pass: compute gradients\n",
    "    grads = {}\n",
    "    #############################################################################\n",
    "    # Full Mark: 2                                                              #\n",
    "    # TODO: Compute the backward pass, computing the derivatives of the weights #\n",
    "    # and biases. Store the results in the grads dictionary. For example,       #\n",
    "    # grads['W1'] should store the gradient on W1, and be a matrix of same size #\n",
    "    #############################################################################\n",
    "\n",
    "    \n",
    "    out_a_diff = scores\n",
    "    out_a_diff[np.arange(N), y] -= 1\n",
    "    \n",
    "     # W2 gradient\n",
    "    dW2 = np.dot(relu_activation.T, out_a_diff) / N + reg * W2\n",
    "\n",
    "    # b2 gradient\n",
    "    db2 = np.sum(out_a_diff, axis=0) / N\n",
    "    \n",
    "    delta = np.dot(out_a_diff, W2.T)\n",
    "    delta_z = np.dot(out_a_diff, W2.T) * (raw_input > 0)\n",
    "\n",
    "    # W1 gradient\n",
    "    dW1 = np.dot(X.T, delta_z) / N + reg * W1\n",
    "\n",
    "    # b1 gradient\n",
    "    db1 = np.sum(delta_z , axis=0) / N\n",
    "\n",
    "    # store the results in the grads dictionary\n",
    "    grads = {'W1':dW1, 'b1':db1, 'W2':dW2, 'b2':db2}\n",
    "\n",
    "    # store the results in the grads dictionary\n",
    "    grads = {'W1':dW1, 'b1':db1, 'W2':dW2, 'b2':db2}\n",
    "\n",
    "    # store the results in the grads dictionary\n",
    "    grads = {'W1':dW1, 'b1':db1, 'W2':dW2, 'b2':db2}\n",
    "\n",
    "    #############################################################################\n",
    "    #                              END OF YOUR CODE                             #\n",
    "    #############################################################################\n",
    "\n",
    "    return loss, grads\n",
    "\n",
    "  def train(self, X, y, X_val, y_val,\n",
    "            learning_rate=1e-3, learning_rate_decay=0.95,\n",
    "            reg=5e-6, num_iters=100,\n",
    "            batch_size=200, verbose=False):\n",
    "    \"\"\"\n",
    "    Train this neural network using stochastic gradient descent.\n",
    "\n",
    "    Inputs:\n",
    "    - X: A numpy array of shape (N, D) giving training data.\n",
    "    - y: A numpy array f shape (N,) giving training labels; y[i] = c means that\n",
    "      X[i] has label c, where 0 <= c < C.\n",
    "    - X_val: A numpy array of shape (N_val, D) giving validation data.\n",
    "    - y_val: A numpy array of shape (N_val,) giving validation labels.\n",
    "    - learning_rate: Scalar giving learning rate for optimization.\n",
    "    - learning_rate_decay: Scalar giving factor used to decay the learning rate\n",
    "      after each epoch.\n",
    "    - reg: Scalar giving regularization strength.\n",
    "    - num_iters: Number of steps to take when optimizing.\n",
    "    - batch_size: Number of training examples to use per step.\n",
    "    - verbose: boolean; if true print progress during optimization.\n",
    "    \"\"\"\n",
    "    num_train = X.shape[0]\n",
    "    iterations_per_epoch = max(num_train / batch_size, 1)\n",
    "\n",
    "    # Use SGD to optimize the parameters in self.model\n",
    "    loss_history = []\n",
    "    train_acc_history = []\n",
    "    val_acc_history = []\n",
    "\n",
    "    for it in xrange(num_iters):\n",
    "\n",
    "      #########################################################################\n",
    "      # Full Mark: 0.5                                                        #\n",
    "      # TODO: Create a random minibatch of training data and labels using     #\n",
    "      # given num_train and batch_size, storing them in X_batch and y_batch   #\n",
    "      # respectively.                                                         #\n",
    "      #########################################################################\n",
    "\n",
    "      rand_id = np.random.choice(num_train, batch_size)\n",
    "      X_batch = X[rand_id]\n",
    "      y_batch = y[rand_id]\n",
    "\n",
    "      #########################################################################\n",
    "      #                             END OF YOUR CODE                          #\n",
    "      #########################################################################\n",
    "\n",
    "      # Compute loss and gradients using the current minibatch\n",
    "      loss, grads = self.loss(X_batch, y=y_batch, reg=reg)\n",
    "      loss_history.append(loss)\n",
    "\n",
    "      #########################################################################\n",
    "      # Full Mark: 0.5                                                        #\n",
    "      # TODO: Use the gradients in the grads dictionary to update the         #\n",
    "      # parameters of the network (stored in the dictionary self.params)      #\n",
    "      # using stochastic gradient descent. You'll need to use the gradients   #\n",
    "      # stored in the grads dictionary defined above.                         #\n",
    "      #########################################################################\n",
    "\n",
    "      self.params['W1'] -= learning_rate * grads['W1']\n",
    "      self.params['W2'] -= learning_rate * grads['W2']\n",
    "      self.params['b1'] -= learning_rate * grads['b1']\n",
    "      self.params['b2'] -= learning_rate * grads['b2']\n",
    "\n",
    "      #########################################################################\n",
    "      #                             END OF YOUR CODE                          #\n",
    "      #########################################################################\n",
    "\n",
    "      if verbose and it % 10 == 0:\n",
    "        print('iteration %d / %d: loss %f' % (it, num_iters, loss))\n",
    "\n",
    "      # Every epoch, check train and val accuracy and decay learning rate.\n",
    "      if it % iterations_per_epoch == 0:\n",
    "        # Check accuracy\n",
    "        train_acc = (self.predict(X_batch) == y_batch).mean()\n",
    "        val_acc = (self.predict(X_val) == y_val).mean()\n",
    "        train_acc_history.append(train_acc)\n",
    "        val_acc_history.append(val_acc)\n",
    "\n",
    "        # Decay learning rate\n",
    "        learning_rate *= learning_rate_decay\n",
    "\n",
    "    return {\n",
    "      'loss_history': loss_history,\n",
    "      'train_acc_history': train_acc_history,\n",
    "      'val_acc_history': val_acc_history,\n",
    "    }\n",
    "\n",
    "  def predict(self, X):\n",
    "    \"\"\"\n",
    "    Use the trained weights of this two-layer network to predict labels for\n",
    "    data points. For each data point we predict scores for each of the C\n",
    "    classes, and assign each data point to the class with the highest score.\n",
    "\n",
    "    Inputs:\n",
    "    - X: A numpy array of shape (N, D) giving N D-dimensional data points to\n",
    "      classify.\n",
    "\n",
    "    Returns:\n",
    "    - y_pred: A numpy array of shape (N,) giving predicted labels for each of\n",
    "      the elements of X. For all i, y_pred[i] = c means that X[i] is predicted\n",
    "      to have class c, where 0 <= c < C.\n",
    "    \"\"\"\n",
    "\n",
    "    ###########################################################################\n",
    "    # Full Mark: 1                                                            #\n",
    "    # TODO: Implement this function                                           #\n",
    "    ###########################################################################\n",
    "\n",
    "    h_z = np.dot(X, self.params['W1']) + self.params['b1']\n",
    "    h_a = np.maximum(0, h_z)\n",
    "    o_z = np.dot(h_a, self.params['W2']) + self.params['b2']\n",
    "    o_a = np.exp(o_z) / np.exp(o_z).sum()\n",
    "    y_pred = np.argmax(o_a, axis=1)\n",
    "\n",
    "    ###########################################################################\n",
    "    #                              END OF YOUR CODE                           #\n",
    "    ###########################################################################\n",
    "\n",
    "    return y_pred"
   ]
  },
  {
   "cell_type": "code",
   "execution_count": 81,
   "metadata": {
    "id": "aO2JTi4nmTzd",
    "pycharm": {
     "name": "#%%\n"
    }
   },
   "outputs": [
    {
     "name": "stdout",
     "output_type": "stream",
     "text": [
      "Final training loss:  6.400271245193619\n",
      "Validation accuracy:  0.44\n"
     ]
    }
   ],
   "source": [
    "# To check your implementations.\n",
    "X,y =load_dataset()\n",
    "X_train, y_train, X_val, y_val, X_test, y_test=train_test_split(X, y)\n",
    "\n",
    "###########################################################################\n",
    "# Full Mark: 1                                                            #\n",
    "# TODO: 1. Using TwoLayerCNN to train on given datasets                   #\n",
    "#       2. Print out the final loss                                       #\n",
    "#       3. Print out the test accuracy                                    #\n",
    "###########################################################################\n",
    "\n",
    "input_size = 4\n",
    "hidden_size = 12\n",
    "num_classes = 3\n",
    "net = TwoLayerCNN(input_size, hidden_size, num_classes)\n",
    "# TODO\n",
    "\n",
    "NN_model = net.train(X_train,y_train,X_val,y_val)\n",
    "print ('Final training loss: ', NN_model['loss_history'][-1])\n",
    "val_acc = (net.predict(X_val) == y_val).mean()\n",
    "print ('Validation accuracy: ', val_acc)\n",
    "\n",
    "###########################################################################\n",
    "#                              END OF YOUR CODE                           #\n",
    "###########################################################################\n"
   ]
  },
  {
   "cell_type": "markdown",
   "metadata": {
    "id": "jqWBT4gv-QDS"
   },
   "source": [
    "The loss function and the accuracies on the training and validation sets would give more insight views."
   ]
  },
  {
   "cell_type": "code",
   "execution_count": 82,
   "metadata": {
    "id": "YxQumZhV0gLZ"
   },
   "outputs": [
    {
     "data": {
      "image/png": "[encoded data removed]",
      "text/plain": [
       "<Figure size 432x288 with 1 Axes>"
      ]
     },
     "metadata": {
      "needs_background": "light"
     },
     "output_type": "display_data"
    }
   ],
   "source": [
    "###########################################################################\n",
    "# Full Mark: 0.5                                                          #\n",
    "# TODO: Plot training loss history                                        # \n",
    "###########################################################################\n",
    "\n",
    "plt.plot(stats['loss_history'])\n",
    "plt.title('Loss history')\n",
    "\n",
    "###########################################################################\n",
    "#                              END OF YOUR CODE                           #\n",
    "###########################################################################   \n",
    "    \n",
    "plt.xlabel('iteration')\n",
    "plt.ylabel('training loss')\n",
    "plt.title('Training Loss history')\n",
    "plt.show()\n"
   ]
  },
  {
   "cell_type": "code",
   "execution_count": 83,
   "metadata": {
    "id": "3EC7Ts8L0hDG"
   },
   "outputs": [
    {
     "data": {
      "image/png": "[encoded data removed]",
      "text/plain": [
       "<Figure size 432x288 with 1 Axes>"
      ]
     },
     "metadata": {
      "needs_background": "light"
     },
     "output_type": "display_data"
    }
   ],
   "source": [
    "###########################################################################\n",
    "# Full Mark: 0.5                                                          #\n",
    "# TODO: Plot Classification accuracy history, compare train/val accuracy  #\n",
    "###########################################################################\n",
    "\n",
    "plt.plot(stats['train_acc_history'], label='train')\n",
    "plt.plot(stats['val_acc_history'], label='val')\n",
    "\n",
    "###########################################################################\n",
    "#                              END OF YOUR CODE                           #\n",
    "###########################################################################  \n",
    "\n",
    "plt.xlabel('Epoch')\n",
    "plt.ylabel('Classification accuracy')\n",
    "plt.title('Classification accuracy history')\n",
    "plt.legend()\n",
    "plt.show()"
   ]
  },
  {
   "cell_type": "code",
   "execution_count": 89,
   "metadata": {
    "id": "2-wpiUvF1G0C"
   },
   "outputs": [
    {
     "name": "stdout",
     "output_type": "stream",
     "text": [
      "Final training loss:  5.710700459295474\n",
      "Validation accuracy:  0.44\n",
      "Final training loss:  5.698047987642522\n",
      "Validation accuracy:  0.32\n"
     ]
    }
   ],
   "source": [
    "###############################################################################\n",
    "# Full Mark: 1                                                                #\n",
    "# TODO: Describe or using codes to show how you tune your hyperparameters     #\n",
    "# (hidden layer size, learning rate, numer of training epochs, regularization #\n",
    "# strength and so on). Is your result good? Does it look underfiting?         #\n",
    "# Overfiting?                                                                 #\n",
    "###############################################################################\n",
    "\n",
    "# Type 1\n",
    "input_size = 4\n",
    "hidden_size = 15\n",
    "num_classes = 3\n",
    "net = TwoLayerCNN(input_size, hidden_size, num_classes)\n",
    "NN_model = net.train(X_train, y_train, X_val, y_val,learning_rate=1e-2, learning_rate_decay=0.95,reg=1e-3,num_iters=10000,\n",
    "            batch_size=100,verbose=False)\n",
    "\n",
    "print ('Final training loss: ', NN_model['loss_history'][-1])\n",
    "val_acc = (net.predict(X_val) == y_val).mean()\n",
    "print ('Validation accuracy: ', val_acc)\n",
    "\n",
    "# Type 2\n",
    "input_size = 4\n",
    "hidden_size = 9\n",
    "num_classes = 3\n",
    "net = TwoLayerCNN(input_size, hidden_size, num_classes)\n",
    "NN_model = net.train(X_train, y_train, X_val, y_val,learning_rate=1e-1, learning_rate_decay=0.95,reg=1e-4,num_iters=1000,\n",
    "            batch_size=100,verbose=False)\n",
    "\n",
    "print ('Final training loss: ', NN_model['loss_history'][-1])\n",
    "val_acc = (net.predict(X_val) == y_val).mean()\n",
    "print ('Validation accuracy: ', val_acc)\n",
    "\n",
    "\n",
    "###############################################################################\n",
    "#                              END OF YOUR CODE                               #\n",
    "###############################################################################  "
   ]
  },
  {
   "cell_type": "markdown",
   "metadata": {
    "id": "MmHbeJjcHzyM",
    "tags": [
     "pdf-inline"
    ]
   },
   "source": [
    "**Explain your hyperparameter tuning process below.**\n",
    "\n",
    "$\\color{blue}{\\textit Your Answer:}$ \n",
    "As the number of iterations increase, the accuracy increases. The model with smaller batch size lead to convolving quicker but the model can overfit due to frequent updation of weights with smaller batches. A smaller learning late with a high iteration helps us reach a better accuracy rate."
   ]
  }
 ],
 "metadata": {
  "colab": {
   "collapsed_sections": [],
   "name": "CS584_Assignment4.ipynb",
   "provenance": []
  },
  "kernelspec": {
   "display_name": "Python 3",
   "language": "python",
   "name": "python3"
  },
  "language_info": {
   "codemirror_mode": {
    "name": "ipython",
    "version": 3
   },
   "file_extension": ".py",
   "mimetype": "text/x-python",
   "name": "python",
   "nbconvert_exporter": "python",
   "pygments_lexer": "ipython3",
   "version": "3.8.5"
  },
  "pycharm": {
   "stem_cell": {
    "cell_type": "raw",
    "metadata": {
     "collapsed": false
    },
    "source": []
   }
  }
 },
 "nbformat": 4,
 "nbformat_minor": 1
}
